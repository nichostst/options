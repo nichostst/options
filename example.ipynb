{
 "metadata": {
  "language_info": {
   "codemirror_mode": {
    "name": "ipython",
    "version": 3
   },
   "file_extension": ".py",
   "mimetype": "text/x-python",
   "name": "python",
   "nbconvert_exporter": "python",
   "pygments_lexer": "ipython3",
   "version": "3.7.3-final"
  },
  "orig_nbformat": 2,
  "kernelspec": {
   "name": "python3",
   "display_name": "Python 3.7.3 64-bit ('base': conda)",
   "metadata": {
    "interpreter": {
     "hash": "9a7e91fc6d12e36a9c139b5b6ee41a0e8cb7707aac88d191ab6a853d7f0bbf22"
    }
   }
  }
 },
 "nbformat": 4,
 "nbformat_minor": 2,
 "cells": [
  {
   "cell_type": "code",
   "execution_count": 1,
   "metadata": {},
   "outputs": [],
   "source": [
    "import time\n",
    "from datetime import datetime\n",
    "import pandas as pd\n",
    "from lib.parser import DateOptionParser, OptionPriceParser\n",
    "\n",
    "tickers = ['AAPL']"
   ]
  },
  {
   "cell_type": "code",
   "execution_count": 4,
   "metadata": {},
   "outputs": [
    {
     "output_type": "stream",
     "name": "stdout",
     "text": [
      "Option price collection took 30.83 seconds.\n"
     ]
    }
   ],
   "source": [
    "dparser = DateOptionParser()\n",
    "oparser = OptionPriceParser()\n",
    "\n",
    "start = time.time()\n",
    "# Collect option prices for all available maturity\n",
    "for ticker in tickers:\n",
    "    dates = dparser.parse(ticker=ticker)\n",
    "    subtables = []\n",
    "    for i, x in dates.items():\n",
    "        calls, puts = oparser.parse(ticker=ticker, time=i)\n",
    "        calls = calls.assign(maturity=datetime.strptime(x, \"%B %d, %Y\"), option_type='calls')\n",
    "        puts = puts.assign(maturity=datetime.strptime(x, \"%B %d, %Y\"), option_type='puts')\n",
    "        subtables.append(pd.concat([calls, puts]))\n",
    "\n",
    "df = pd.concat(subtables).assign(scrape_time=time.time())\n",
    "print(f\"Option price collection took {time.time()-start:.2f} seconds.\")"
   ]
  },
  {
   "cell_type": "code",
   "execution_count": 9,
   "metadata": {},
   "outputs": [
    {
     "output_type": "execute_result",
     "data": {
      "text/plain": [
       "                   name                last_trade  strike  last_price  bid  \\\n",
       "34  AAPL210129C00126000 2021-01-22 15:58:00-05:00   126.0       13.80  0.0   \n",
       "35  AAPL210129C00127000 2021-01-22 15:56:00-05:00   127.0       12.90  0.0   \n",
       "36  AAPL210129C00128000 2021-01-22 15:59:00-05:00   128.0       11.88  0.0   \n",
       "37  AAPL210129C00129000 2021-01-22 15:59:00-05:00   129.0       11.02  0.0   \n",
       "38  AAPL210129C00130000 2021-01-22 15:59:00-05:00   130.0       10.10  0.0   \n",
       "..                  ...                       ...     ...         ...  ...   \n",
       "56  AAPL210129P00147000 2021-01-22 15:28:00-05:00   147.0        9.58  0.0   \n",
       "57  AAPL210129P00148000 2021-01-22 15:47:00-05:00   148.0       10.11  0.0   \n",
       "58  AAPL210129P00149000 2021-01-22 15:51:00-05:00   149.0       11.14  0.0   \n",
       "59  AAPL210129P00150000 2021-01-22 15:59:00-05:00   150.0       12.15  0.0   \n",
       "60  AAPL210129P00152500 2021-01-22 15:50:00-05:00   152.5       14.10  0.0   \n",
       "\n",
       "    ask  change  pct_change   volume  open_interest  implied_vol  underlying  \\\n",
       "34  0.0     0.0         0.0    854.0            0.0          0.0      139.07   \n",
       "35  0.0     0.0         0.0    765.0            0.0          0.0      139.07   \n",
       "36  0.0     0.0         0.0   2287.0            0.0          0.0      139.07   \n",
       "37  0.0     0.0         0.0   1688.0            0.0          0.0      139.07   \n",
       "38  0.0     0.0         0.0  10330.0            0.0          0.0      139.07   \n",
       "..  ...     ...         ...      ...            ...          ...         ...   \n",
       "56  0.0     0.0         0.0    130.0            0.0          0.0      139.07   \n",
       "57  0.0     0.0         0.0     90.0            0.0          0.0      139.07   \n",
       "58  0.0     0.0         0.0     74.0            0.0          0.0      139.07   \n",
       "59  0.0     0.0         0.0    955.0            0.0          0.0      139.07   \n",
       "60  0.0     0.0         0.0     37.0            0.0          0.0      139.07   \n",
       "\n",
       "   ticker   maturity option_type   scrape_time  \n",
       "34   AAPL 2021-01-29       calls  1.611567e+09  \n",
       "35   AAPL 2021-01-29       calls  1.611567e+09  \n",
       "36   AAPL 2021-01-29       calls  1.611567e+09  \n",
       "37   AAPL 2021-01-29       calls  1.611567e+09  \n",
       "38   AAPL 2021-01-29       calls  1.611567e+09  \n",
       "..    ...        ...         ...           ...  \n",
       "56   AAPL 2023-03-17        puts  1.611567e+09  \n",
       "57   AAPL 2023-03-17        puts  1.611567e+09  \n",
       "58   AAPL 2023-03-17        puts  1.611567e+09  \n",
       "59   AAPL 2023-03-17        puts  1.611567e+09  \n",
       "60   AAPL 2023-03-17        puts  1.611567e+09  \n",
       "\n",
       "[832 rows x 16 columns]"
      ],
      "text/html": "<div>\n<style scoped>\n    .dataframe tbody tr th:only-of-type {\n        vertical-align: middle;\n    }\n\n    .dataframe tbody tr th {\n        vertical-align: top;\n    }\n\n    .dataframe thead th {\n        text-align: right;\n    }\n</style>\n<table border=\"1\" class=\"dataframe\">\n  <thead>\n    <tr style=\"text-align: right;\">\n      <th></th>\n      <th>name</th>\n      <th>last_trade</th>\n      <th>strike</th>\n      <th>last_price</th>\n      <th>bid</th>\n      <th>ask</th>\n      <th>change</th>\n      <th>pct_change</th>\n      <th>volume</th>\n      <th>open_interest</th>\n      <th>implied_vol</th>\n      <th>underlying</th>\n      <th>ticker</th>\n      <th>maturity</th>\n      <th>option_type</th>\n      <th>scrape_time</th>\n    </tr>\n  </thead>\n  <tbody>\n    <tr>\n      <th>34</th>\n      <td>AAPL210129C00126000</td>\n      <td>2021-01-22 15:58:00-05:00</td>\n      <td>126.0</td>\n      <td>13.80</td>\n      <td>0.0</td>\n      <td>0.0</td>\n      <td>0.0</td>\n      <td>0.0</td>\n      <td>854.0</td>\n      <td>0.0</td>\n      <td>0.0</td>\n      <td>139.07</td>\n      <td>AAPL</td>\n      <td>2021-01-29</td>\n      <td>calls</td>\n      <td>1.611567e+09</td>\n    </tr>\n    <tr>\n      <th>35</th>\n      <td>AAPL210129C00127000</td>\n      <td>2021-01-22 15:56:00-05:00</td>\n      <td>127.0</td>\n      <td>12.90</td>\n      <td>0.0</td>\n      <td>0.0</td>\n      <td>0.0</td>\n      <td>0.0</td>\n      <td>765.0</td>\n      <td>0.0</td>\n      <td>0.0</td>\n      <td>139.07</td>\n      <td>AAPL</td>\n      <td>2021-01-29</td>\n      <td>calls</td>\n      <td>1.611567e+09</td>\n    </tr>\n    <tr>\n      <th>36</th>\n      <td>AAPL210129C00128000</td>\n      <td>2021-01-22 15:59:00-05:00</td>\n      <td>128.0</td>\n      <td>11.88</td>\n      <td>0.0</td>\n      <td>0.0</td>\n      <td>0.0</td>\n      <td>0.0</td>\n      <td>2287.0</td>\n      <td>0.0</td>\n      <td>0.0</td>\n      <td>139.07</td>\n      <td>AAPL</td>\n      <td>2021-01-29</td>\n      <td>calls</td>\n      <td>1.611567e+09</td>\n    </tr>\n    <tr>\n      <th>37</th>\n      <td>AAPL210129C00129000</td>\n      <td>2021-01-22 15:59:00-05:00</td>\n      <td>129.0</td>\n      <td>11.02</td>\n      <td>0.0</td>\n      <td>0.0</td>\n      <td>0.0</td>\n      <td>0.0</td>\n      <td>1688.0</td>\n      <td>0.0</td>\n      <td>0.0</td>\n      <td>139.07</td>\n      <td>AAPL</td>\n      <td>2021-01-29</td>\n      <td>calls</td>\n      <td>1.611567e+09</td>\n    </tr>\n    <tr>\n      <th>38</th>\n      <td>AAPL210129C00130000</td>\n      <td>2021-01-22 15:59:00-05:00</td>\n      <td>130.0</td>\n      <td>10.10</td>\n      <td>0.0</td>\n      <td>0.0</td>\n      <td>0.0</td>\n      <td>0.0</td>\n      <td>10330.0</td>\n      <td>0.0</td>\n      <td>0.0</td>\n      <td>139.07</td>\n      <td>AAPL</td>\n      <td>2021-01-29</td>\n      <td>calls</td>\n      <td>1.611567e+09</td>\n    </tr>\n    <tr>\n      <th>...</th>\n      <td>...</td>\n      <td>...</td>\n      <td>...</td>\n      <td>...</td>\n      <td>...</td>\n      <td>...</td>\n      <td>...</td>\n      <td>...</td>\n      <td>...</td>\n      <td>...</td>\n      <td>...</td>\n      <td>...</td>\n      <td>...</td>\n      <td>...</td>\n      <td>...</td>\n      <td>...</td>\n    </tr>\n    <tr>\n      <th>56</th>\n      <td>AAPL210129P00147000</td>\n      <td>2021-01-22 15:28:00-05:00</td>\n      <td>147.0</td>\n      <td>9.58</td>\n      <td>0.0</td>\n      <td>0.0</td>\n      <td>0.0</td>\n      <td>0.0</td>\n      <td>130.0</td>\n      <td>0.0</td>\n      <td>0.0</td>\n      <td>139.07</td>\n      <td>AAPL</td>\n      <td>2023-03-17</td>\n      <td>puts</td>\n      <td>1.611567e+09</td>\n    </tr>\n    <tr>\n      <th>57</th>\n      <td>AAPL210129P00148000</td>\n      <td>2021-01-22 15:47:00-05:00</td>\n      <td>148.0</td>\n      <td>10.11</td>\n      <td>0.0</td>\n      <td>0.0</td>\n      <td>0.0</td>\n      <td>0.0</td>\n      <td>90.0</td>\n      <td>0.0</td>\n      <td>0.0</td>\n      <td>139.07</td>\n      <td>AAPL</td>\n      <td>2023-03-17</td>\n      <td>puts</td>\n      <td>1.611567e+09</td>\n    </tr>\n    <tr>\n      <th>58</th>\n      <td>AAPL210129P00149000</td>\n      <td>2021-01-22 15:51:00-05:00</td>\n      <td>149.0</td>\n      <td>11.14</td>\n      <td>0.0</td>\n      <td>0.0</td>\n      <td>0.0</td>\n      <td>0.0</td>\n      <td>74.0</td>\n      <td>0.0</td>\n      <td>0.0</td>\n      <td>139.07</td>\n      <td>AAPL</td>\n      <td>2023-03-17</td>\n      <td>puts</td>\n      <td>1.611567e+09</td>\n    </tr>\n    <tr>\n      <th>59</th>\n      <td>AAPL210129P00150000</td>\n      <td>2021-01-22 15:59:00-05:00</td>\n      <td>150.0</td>\n      <td>12.15</td>\n      <td>0.0</td>\n      <td>0.0</td>\n      <td>0.0</td>\n      <td>0.0</td>\n      <td>955.0</td>\n      <td>0.0</td>\n      <td>0.0</td>\n      <td>139.07</td>\n      <td>AAPL</td>\n      <td>2023-03-17</td>\n      <td>puts</td>\n      <td>1.611567e+09</td>\n    </tr>\n    <tr>\n      <th>60</th>\n      <td>AAPL210129P00152500</td>\n      <td>2021-01-22 15:50:00-05:00</td>\n      <td>152.5</td>\n      <td>14.10</td>\n      <td>0.0</td>\n      <td>0.0</td>\n      <td>0.0</td>\n      <td>0.0</td>\n      <td>37.0</td>\n      <td>0.0</td>\n      <td>0.0</td>\n      <td>139.07</td>\n      <td>AAPL</td>\n      <td>2023-03-17</td>\n      <td>puts</td>\n      <td>1.611567e+09</td>\n    </tr>\n  </tbody>\n</table>\n<p>832 rows × 16 columns</p>\n</div>"
     },
     "metadata": {},
     "execution_count": 9
    }
   ],
   "source": [
    "# Get options only x% around-the-money\n",
    "around_the_money = 0.1\n",
    "mask = (df['strike'] < (1 + around_the_money)*df['underlying']) & (df['strike'] > (1 - around_the_money)*df['underlying'])\n",
    "df[mask].assign(scrape_time=time.time())"
   ]
  },
  {
   "cell_type": "code",
   "execution_count": null,
   "metadata": {},
   "outputs": [],
   "source": []
  }
 ]
}